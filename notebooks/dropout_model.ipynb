{
 "cells": [
  {
   "cell_type": "code",
   "execution_count": null,
   "id": "7a011f0e",
   "metadata": {
    "vscode": {
     "languageId": "plaintext"
    }
   },
   "outputs": [],
   "source": [
    "import pickle\n",
    "import pandas as pd\n",
    "\n",
    "with open(\"../models/dropout_model.pkl\", \"rb\") as f:\n",
    "    model = pickle.load(f)\n",
    "\n",
    "# Example student features\n",
    "sample_student = pd.DataFrame([{\n",
    "    \"attendance\": 60,\n",
    "    \"grades\": 45,\n",
    "    \"participation\": 2,\n",
    "    \"family_support\": 1,\n",
    "    \"stress_level\": 8\n",
    "}])\n",
    "\n",
    "risk = model.predict(sample_student)[0]\n",
    "print(\"Dropout Risk:\", \"High\" if risk == 1 else \"Low\")\n"
   ]
  }
 ],
 "metadata": {
  "language_info": {
   "name": "python"
  }
 },
 "nbformat": 4,
 "nbformat_minor": 5
}
