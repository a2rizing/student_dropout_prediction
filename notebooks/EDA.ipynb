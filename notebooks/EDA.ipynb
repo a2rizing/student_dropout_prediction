{
 "cells": [
  {
   "cell_type": "code",
   "execution_count": null,
   "id": "664db218",
   "metadata": {
    "vscode": {
     "languageId": "plaintext"
    }
   },
   "outputs": [],
   "source": [
    "import pandas as pd\n",
    "import matplotlib.pyplot as plt\n",
    "import seaborn as sns\n",
    "\n",
    "# Load data\n",
    "df = pd.read_csv(\"data/processed/student_feedback_clean.csv\")\n",
    "\n",
    "# Preview\n",
    "print(df.head())\n",
    "\n",
    "# Sentiment distribution\n",
    "sns.countplot(data=df, x=\"sentiment\")\n",
    "plt.title(\"Student Feedback Sentiment Distribution\")\n",
    "plt.show()\n",
    "\n",
    "# Teacher feedback\n",
    "df_t = pd.read_csv(\"data/processed/teacher_feedback_clean.csv\")\n",
    "sns.countplot(data=df_t, x=\"sentiment\")\n",
    "plt.title(\"Teacher Feedback Sentiment Distribution\")\n",
    "plt.show()\n"
   ]
  }
 ],
 "metadata": {
  "language_info": {
   "name": "python"
  }
 },
 "nbformat": 4,
 "nbformat_minor": 5
}
