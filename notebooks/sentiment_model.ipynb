{
 "cells": [
  {
   "cell_type": "code",
   "execution_count": null,
   "id": "fb611ea7",
   "metadata": {
    "vscode": {
     "languageId": "plaintext"
    }
   },
   "outputs": [],
   "source": [
    "import pickle\n",
    "import pandas as pd\n",
    "\n",
    "with open(\"../models/sentiment_model.pkl\", \"rb\") as f:\n",
    "    vectorizer, model = pickle.load(f)\n",
    "\n",
    "sample_texts = [\n",
    "    \"I love how my teacher explains the concepts\",\n",
    "    \"The class is boring and I don’t understand anything\"\n",
    "]\n",
    "\n",
    "X = vectorizer.transform(sample_texts)\n",
    "preds = model.predict(X)\n",
    "\n",
    "for text, pred in zip(sample_texts, preds):\n",
    "    print(f\"{text} → {pred}\")\n"
   ]
  }
 ],
 "metadata": {
  "language_info": {
   "name": "python"
  }
 },
 "nbformat": 4,
 "nbformat_minor": 5
}
